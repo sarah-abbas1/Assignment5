{
 "cells": [
  {
   "cell_type": "code",
   "execution_count": null,
   "id": "de5819e2",
   "metadata": {},
   "outputs": [
    {
     "name": "stdout",
     "output_type": "stream",
     "text": [
      "12\n"
     ]
    }
   ],
   "source": [
    "# 1\n",
    "def add_numbers(x,y) : #x, y are parameters\n",
    "    print(x+y)\n",
    "\n",
    "add_numbers(5,7) # these nos are arguments"
   ]
  },
  {
   "cell_type": "code",
   "execution_count": null,
   "id": "8a6d865c",
   "metadata": {},
   "outputs": [
    {
     "data": {
      "text/plain": [
       "900"
      ]
     },
     "execution_count": 2,
     "metadata": {},
     "output_type": "execute_result"
    }
   ],
   "source": [
    "# 2\n",
    "def currency_converter(amount , exchange_rate = 280) :\n",
    "    return amount * exchange_rate\n",
    "currency_converter(3 , 300)"
   ]
  },
  {
   "cell_type": "code",
   "execution_count": null,
   "id": "f47c38d1",
   "metadata": {},
   "outputs": [
    {
     "name": "stdout",
     "output_type": "stream",
     "text": [
      "Name: Sarah\n",
      "Age: 18\n",
      "Grade: 12\n",
      "School: SJC\n"
     ]
    }
   ],
   "source": [
    "# 3\n",
    "def display_student_info(name , age, grade, school ) :\n",
    "    print('Name:', name)\n",
    "    print('Age:', age)\n",
    "    print('Grade:', grade)\n",
    "    print('School:', school)\n",
    "\n",
    "display_student_info(\"Sarah\", 18, 12, \"SJC\")"
   ]
  },
  {
   "cell_type": "code",
   "execution_count": 7,
   "id": "44d7085f",
   "metadata": {},
   "outputs": [
    {
     "name": "stdout",
     "output_type": "stream",
     "text": [
      "total price = 200\n"
     ]
    }
   ],
   "source": [
    "# 4\n",
    "def calculate_price(price, quantity) :\n",
    "    print('total price =' , price *quantity)\n",
    "\n",
    "calculate_price(100, 2) \n",
    "\n"
   ]
  },
  {
   "cell_type": "code",
   "execution_count": null,
   "id": "87819b51",
   "metadata": {},
   "outputs": [
    {
     "name": "stdout",
     "output_type": "stream",
     "text": [
      "Product: $ Laptop,\n",
      "Amazon: $ 800\n",
      "eBay: $ 750\n",
      "Walmart: $ 730\n"
     ]
    }
   ],
   "source": [
    "# 5\n",
    "def display_prices(Product, **prices) :\n",
    "    print(\"Product:\", Product)\n",
    "    print(\"Amazon: $\" , Amazon)\n",
    "    print(\"eBay: $\" , eBay)\n",
    "    print(\"Walmart: $\" , Walmart)\n",
    "\n",
    "display_prices(\"Laptop,\" , 800, 750, 730)"
   ]
  }
 ],
 "metadata": {
  "kernelspec": {
   "display_name": "Python 3",
   "language": "python",
   "name": "python3"
  },
  "language_info": {
   "codemirror_mode": {
    "name": "ipython",
    "version": 3
   },
   "file_extension": ".py",
   "mimetype": "text/x-python",
   "name": "python",
   "nbconvert_exporter": "python",
   "pygments_lexer": "ipython3",
   "version": "3.11.9"
  }
 },
 "nbformat": 4,
 "nbformat_minor": 5
}
